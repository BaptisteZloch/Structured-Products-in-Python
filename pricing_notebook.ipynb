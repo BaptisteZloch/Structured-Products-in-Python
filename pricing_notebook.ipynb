{
 "cells": [
  {
   "cell_type": "code",
   "execution_count": 1,
   "metadata": {},
   "outputs": [],
   "source": [
    "from src.pricing.base.rate import Rate\n",
    "from src.pricing.base.volatility import Volatility\n",
    "from src.utility.types import Maturity"
   ]
  },
  {
   "cell_type": "code",
   "execution_count": 2,
   "metadata": {},
   "outputs": [
    {
     "data": {
      "text/plain": [
       "(88.90331408025631,\n",
       " {'delta': 0.39113136920909136,\n",
       "  'gamma': -0.015021300293950785,\n",
       "  'theta': 3.2765250559945116,\n",
       "  'rho': 0.47254376195503633,\n",
       "  'vega': -0.37553250734876964})"
      ]
     },
     "execution_count": 2,
     "metadata": {},
     "output_type": "execute_result"
    }
   ],
   "source": [
    "from src.pricing.structured_products import ReverseConvertible\n",
    "\n",
    "\n",
    "rcki = ReverseConvertible(rate= Rate(0.03),\n",
    "        maturity= Maturity(1),\n",
    "        nominal=100,\n",
    "        spot_price=100,\n",
    "        strike_price=100,\n",
    "        volatility= Volatility(0.25),\n",
    "        converse_rate=0.03\n",
    "    )\n",
    "rcki.compute_price(),rcki.compute_greeks()"
   ]
  },
  {
   "cell_type": "code",
   "execution_count": 3,
   "metadata": {},
   "outputs": [
    {
     "name": "stdout",
     "output_type": "stream",
     "text": [
      "100\n"
     ]
    },
    {
     "data": {
      "text/plain": [
       "(202.1362914253212,\n",
       " {'delta': 6.370946058884719,\n",
       "  'gamma': 0.13937288932531658,\n",
       "  'theta': -56.60277734805595,\n",
       "  'rho': 4.349583144631507,\n",
       "  'vega': 3.4843222331329144})"
      ]
     },
     "execution_count": 3,
     "metadata": {},
     "output_type": "execute_result"
    }
   ],
   "source": [
    "from src.pricing.structured_products import OutperformerCertificate\n",
    "\n",
    "\n",
    "outc = OutperformerCertificate(\n",
    "        rate= Rate(0.03),\n",
    "        maturity= Maturity(1),\n",
    "        spot_price=100,\n",
    "        strike_price=100,\n",
    "        participation=10,\n",
    "        volatility= Volatility(0.25),)\n",
    "outc.compute_price(),outc.compute_greeks()"
   ]
  },
  {
   "cell_type": "markdown",
   "metadata": {},
   "source": [
    "# Pricing Options\n",
    "\n",
    "## Vanilla Options\n"
   ]
  },
  {
   "cell_type": "code",
   "execution_count": null,
   "metadata": {},
   "outputs": [],
   "source": [
    "from src.pricing.vanilla_options import VanillaOption\n",
    "\n",
    "\n",
    "opt = VanillaOption(\n",
    "    100,\n",
    "    110,\n",
    "    Maturity(maturity_in_days=365),\n",
    "    Rate(rate=0.04),\n",
    "    Volatility(volatility=0.20),\n",
    "    option_type=\"call\",\n",
    ")\n",
    "\n",
    "opt.compute_price()"
   ]
  },
  {
   "cell_type": "code",
   "execution_count": null,
   "metadata": {},
   "outputs": [],
   "source": [
    "opt2 = VanillaOption(\n",
    "    100,\n",
    "    110,\n",
    "    Maturity(maturity_in_days=365),\n",
    "    Rate(rate=0.04),\n",
    "    Volatility(volatility=0.20),\n",
    "    option_type=\"put\",\n",
    ")\n",
    "\n",
    "opt2.compute_price()"
   ]
  },
  {
   "cell_type": "markdown",
   "metadata": {},
   "source": [
    "## Option digit\n"
   ]
  },
  {
   "cell_type": "code",
   "execution_count": null,
   "metadata": {},
   "outputs": [],
   "source": [
    "from src.pricing.binary_options import BinaryOption\n",
    "\n",
    "\n",
    "bin_opt = BinaryOption(\n",
    "    100,\n",
    "    110,\n",
    "    Maturity(maturity_in_days=365),\n",
    "    Rate(rate=0.04),\n",
    "    Volatility(volatility=0.20),\n",
    "    option_type=\"call\",\n",
    ")\n",
    "bin_opt.compute_price()"
   ]
  },
  {
   "cell_type": "code",
   "execution_count": null,
   "metadata": {},
   "outputs": [],
   "source": [
    "bin_opt2 = BinaryOption(\n",
    "    100,\n",
    "    110,\n",
    "    Maturity(maturity_in_days=365),\n",
    "    Rate(rate=0.04),\n",
    "    Volatility(volatility=0.20),\n",
    "    option_type=\"put\",\n",
    ")\n",
    "bin_opt2.compute_price()"
   ]
  },
  {
   "cell_type": "markdown",
   "metadata": {},
   "source": [
    "# Option strategies\n",
    "\n",
    "## Straddle\n"
   ]
  },
  {
   "cell_type": "code",
   "execution_count": null,
   "metadata": {},
   "outputs": [],
   "source": [
    "from src.pricing.option_strategies import StraddleStrategy\n",
    "\n",
    "\n",
    "straddle = StraddleStrategy(\n",
    "    100,\n",
    "    140,\n",
    "    Maturity(maturity_in_days=365),\n",
    "    Rate(rate=0.04),\n",
    "    Volatility(volatility=0.20),\n",
    ")\n",
    "straddle.compute_price()"
   ]
  },
  {
   "cell_type": "code",
   "execution_count": null,
   "metadata": {},
   "outputs": [],
   "source": [
    "straddle.compute_greeks()"
   ]
  },
  {
   "cell_type": "markdown",
   "metadata": {},
   "source": []
  },
  {
   "cell_type": "markdown",
   "metadata": {},
   "source": [
    "## Strangle strategy\n"
   ]
  },
  {
   "cell_type": "code",
   "execution_count": null,
   "metadata": {},
   "outputs": [],
   "source": [
    "from src.pricing.option_strategies import StrangleStrategy\n",
    "\n",
    "\n",
    "straddle = StrangleStrategy(\n",
    "    100,\n",
    "    90,\n",
    "    110,\n",
    "    Maturity(maturity_in_days=365),\n",
    "    Rate(rate=0.04),\n",
    "    Volatility(volatility=0.20),\n",
    ")\n",
    "straddle.compute_price()"
   ]
  },
  {
   "cell_type": "markdown",
   "metadata": {},
   "source": [
    "# Pricing Bonds\n",
    "\n",
    "## ZC\n"
   ]
  },
  {
   "cell_type": "code",
   "execution_count": null,
   "metadata": {},
   "outputs": [],
   "source": [
    "from src.pricing.fixed_income import ZeroCouponBond\n",
    "\n",
    "\n",
    "zc_bond = ZeroCouponBond(\n",
    "    Rate(rate=0.03, rate_type=\"continuous\"), Maturity(maturity_in_days=365), nominal=100\n",
    ")\n",
    "\n",
    "\n",
    "zc_bond.compute_price()"
   ]
  },
  {
   "cell_type": "markdown",
   "metadata": {},
   "source": [
    "## Vanilla Bond\n",
    "\n",
    "using a rate curve interpolation\n"
   ]
  },
  {
   "cell_type": "code",
   "execution_count": null,
   "metadata": {},
   "outputs": [],
   "source": [
    "from src.pricing.fixed_income import Bond\n",
    "\n",
    "\n",
    "rate_curve = {\n",
    "    Maturity(1 / 365): 0.02,\n",
    "    Maturity(1 / 12): 0.01,\n",
    "    Maturity(3 / 12): 0.02,\n",
    "    Maturity(6 / 12): 0.04,\n",
    "    Maturity(1): 0.06,\n",
    "    Maturity(3): 0.07,\n",
    "    Maturity(5): 0.08,\n",
    "    Maturity(10): 0.1,\n",
    "}\n",
    "bond = Bond(\n",
    "    Rate(\n",
    "        rate_curve=rate_curve,\n",
    "        rate_type=\"continuous\",\n",
    "    ),\n",
    "    Maturity(maturity_in_days=365 * 5),\n",
    "    nominal=100,\n",
    "    coupon_rate=0.02,\n",
    "    nb_coupon=10,\n",
    ")\n",
    "\n",
    "bond.compute_price()"
   ]
  },
  {
   "cell_type": "code",
   "execution_count": null,
   "metadata": {},
   "outputs": [],
   "source": [
    "from matplotlib import pyplot as plt\n",
    "\n",
    "\n",
    "plt.plot(\n",
    "    [mat.maturity_in_years for mat in rate_curve.keys()],\n",
    "    [r for r in rate_curve.values()],\n",
    "    label=\"Rate curve\",\n",
    ")\n",
    "plt.xlabel(\"Tenors (Y)\")\n",
    "# plt.xscale('log')\n",
    "plt.ylabel(\"Rate (%)\")\n",
    "plt.grid()\n",
    "plt.legend()\n",
    "plt.title(\"Rate curve\")"
   ]
  },
  {
   "cell_type": "markdown",
   "metadata": {},
   "source": [
    "## Barrier Options\n"
   ]
  },
  {
   "cell_type": "code",
   "execution_count": null,
   "metadata": {},
   "outputs": [],
   "source": [
    "# Maturity en première clé et Strike en seconde\n",
    "d1 = {\n",
    "    \"1.0\": {\n",
    "        \"0.9\": 0.14,\n",
    "        \"1.0\": 0.10,\n",
    "        \"1.1\": 0.12,\n",
    "    },\n",
    "    \"1.5\": {\n",
    "        \"0.9\": 0.13,\n",
    "        \"1.0\": 0.09,\n",
    "        \"1.1\": 0.13,\n",
    "    },\n",
    "    \"2.0\": {\n",
    "        \"0.9\": 0.10,\n",
    "        \"1.0\": 0.1,\n",
    "        \"1.1\": 0.08,\n",
    "    },\n",
    "}"
   ]
  },
  {
   "cell_type": "code",
   "execution_count": null,
   "metadata": {},
   "outputs": [],
   "source": [
    "from itertools import product\n",
    "\n",
    "volatility_surface_example = {}\n",
    "for comb in product(map(float, d1.keys()), map(float, list(d1.items())[0][-1].keys())):\n",
    "    volatility_surface_example[comb] = d1.get(str(comb[0])).get(\n",
    "        str(comb[-1]), int(comb[-1])\n",
    "    )\n",
    "\n",
    "volatility_surface_example"
   ]
  },
  {
   "cell_type": "code",
   "execution_count": null,
   "metadata": {},
   "outputs": [],
   "source": []
  },
  {
   "cell_type": "code",
   "execution_count": null,
   "metadata": {},
   "outputs": [],
   "source": [
    "from src.pricing.base.volatility import Volatility\n",
    "\n",
    "\n",
    "volatility_object = Volatility(volatility_surface=volatility_surface_example)\n",
    "\n",
    "volatility_object.print_surface()\n",
    "\n",
    "print(volatility_object.get_volatility(1.3, 0.75))"
   ]
  },
  {
   "cell_type": "code",
   "execution_count": null,
   "metadata": {},
   "outputs": [],
   "source": [
    "from src.pricing.barrier_options import BarrierOption\n",
    "import random\n",
    "import numpy as np\n",
    "\n",
    "random.seed(40)\n",
    "np.random.seed(40)\n",
    "\n",
    "barrier_option1 = BarrierOption(\n",
    "    spot_price=80,\n",
    "    strike_price=100,\n",
    "    maturity=Maturity(maturity_in_days=365),\n",
    "    rate=Rate(rate=0.04),\n",
    "    volatility=Volatility(volatility=0.20),\n",
    "    option_type=\"put\",\n",
    "    barrier_level=80,\n",
    "    barrier_type=\"ki\",\n",
    "    barrier_direction=\"down\",\n",
    ")\n",
    "\n",
    "price1 = barrier_option1.compute_price(num_paths=30000, num_steps=1000)\n",
    "print(f\"Le prix estimé de l'option barrière est: {price1}\")"
   ]
  },
  {
   "cell_type": "code",
   "execution_count": null,
   "metadata": {},
   "outputs": [],
   "source": [
    "barrier_option1.compute_greeks()"
   ]
  }
 ],
 "metadata": {
  "kernelspec": {
   "display_name": ".venv",
   "language": "python",
   "name": "python3"
  },
  "language_info": {
   "codemirror_mode": {
    "name": "ipython",
    "version": 3
   },
   "file_extension": ".py",
   "mimetype": "text/x-python",
   "name": "python",
   "nbconvert_exporter": "python",
   "pygments_lexer": "ipython3",
   "version": "3.11.6"
  }
 },
 "nbformat": 4,
 "nbformat_minor": 2
}
