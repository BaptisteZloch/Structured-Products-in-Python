{
 "cells": [
  {
   "cell_type": "code",
   "execution_count": null,
   "metadata": {},
   "outputs": [],
   "source": [
    "%pip install -U requests"
   ]
  },
  {
   "cell_type": "code",
   "execution_count": 1,
   "metadata": {},
   "outputs": [],
   "source": [
    "from requests import post, get\n",
    "import json\n",
    "\n",
    "\n",
    "\n",
    "# URL = \"https://structured-pricing-api-dauphine.koyeb.app\"\n",
    "URL = \"http://localhost:8000\"\n"
   ]
  },
  {
   "cell_type": "markdown",
   "metadata": {},
   "source": [
    "Vanilla option"
   ]
  },
  {
   "cell_type": "code",
   "execution_count": 2,
   "metadata": {},
   "outputs": [
    {
     "data": {
      "text/plain": [
       "{'price': 3.0697305092269715,\n",
       " 'delta': 0.5422350133116141,\n",
       " 'gamma': 0.05610249260837251,\n",
       " 'theta': -4.3397377550766585,\n",
       " 'rho': 0.2557688541096722,\n",
       " 'vega': 0.28051246304186256}"
      ]
     },
     "execution_count": 2,
     "metadata": {},
     "output_type": "execute_result"
    }
   ],
   "source": [
    "\n",
    "\n",
    "post(\n",
    "    f\"{URL}/api/v1/price/option/vanilla\",\n",
    "    data=json.dumps(\n",
    "        {\n",
    "            \"spot_price\": 100,\n",
    "            \"strike_price\": 100,\n",
    "            \"maturity\": 0.5,\n",
    "            \"dividend\":0.02,\n",
    "            \"rate\": 0.03,\n",
    "            \"volatility\": 0.10,\n",
    "            \"option_type\": \"call\",\n",
    "        }\n",
    "    ),\n",
    ").json()"
   ]
  },
  {
   "cell_type": "markdown",
   "metadata": {},
   "source": [
    "Using vol surface"
   ]
  },
  {
   "cell_type": "code",
   "execution_count": 4,
   "metadata": {},
   "outputs": [
    {
     "data": {
      "text/plain": [
       "{'price': 5.9745920524661145,\n",
       " 'delta': 0.5972357699216009,\n",
       " 'gamma': 0.031921940541264376,\n",
       " 'theta': -5.278309570631671,\n",
       " 'rho': 0.40311738704770483,\n",
       " 'vega': 0.3351803756832761}"
      ]
     },
     "execution_count": 4,
     "metadata": {},
     "output_type": "execute_result"
    }
   ],
   "source": [
    "\n",
    "post(\n",
    "   f\"{URL}/api/v1/price/option/vanilla\",\n",
    "    data=json.dumps(\n",
    "        {\n",
    "            \"spot_price\": 100,\n",
    "            \"strike_price\": 100,\n",
    "            \"maturity\": 0.75,\n",
    "            \"dividend\":0.01,\n",
    "            \"rate_curve\": {\"0.5\":0.02,\"1\":0.06},\n",
    "             \"volatility_surface\":{\n",
    "                \"1.0\": {\n",
    "                    \"0.9\": 0.14,\n",
    "                    \"1.0\": 0.10,\n",
    "                    \"1.1\": 0.12\n",
    "                },\n",
    "                \"1.5\": {\n",
    "                    \"0.9\": 0.13,\n",
    "                    \"1.0\": 0.09,\n",
    "                    \"1.1\": 0.13\n",
    "                },\n",
    "                \"2.0\": {\n",
    "                    \"0.9\": 0.10,\n",
    "                    \"1.0\": 0.1,\n",
    "                    \"1.1\": 0.08\n",
    "                }},\n",
    "            \"option_type\": \"call\",\n",
    "        }\n",
    "    ),\n",
    ").json()"
   ]
  },
  {
   "cell_type": "markdown",
   "metadata": {},
   "source": [
    "binary option"
   ]
  },
  {
   "cell_type": "code",
   "execution_count": 3,
   "metadata": {},
   "outputs": [
    {
     "data": {
      "text/plain": [
       "{'price': 0.5726722849809049,\n",
       " 'delta': 0.04399760448921839,\n",
       " 'gamma': -0.0015399161571226431,\n",
       " 'theta': -6.974440899635778e-05,\n",
       " 'rho': 0.028703161229557003,\n",
       " 'vega': 1.1549371178419827}"
      ]
     },
     "execution_count": 3,
     "metadata": {},
     "output_type": "execute_result"
    }
   ],
   "source": [
    "\n",
    "post(\n",
    "   f\"{URL}/api/v1/price/option/binary\",\n",
    "    data=json.dumps(\n",
    "        {\n",
    "            \"spot_price\": 100,\n",
    "            \"strike_price\": 100,\n",
    "            \"maturity\": 0.75,\n",
    "            'rate':0.04,\n",
    "            \"dividend\":0.01,\n",
    "            \"volatility\": 0.10,\n",
    "            \"option_type\": \"call\",\n",
    "        }\n",
    "    ),\n",
    ").json()"
   ]
  },
  {
   "cell_type": "markdown",
   "metadata": {},
   "source": [
    "using rate curve"
   ]
  },
  {
   "cell_type": "code",
   "execution_count": 4,
   "metadata": {},
   "outputs": [
    {
     "data": {
      "text/plain": [
       "{'price': 0.5726722849809049,\n",
       " 'delta': 0.04399760448921839,\n",
       " 'gamma': -0.0015399161571226427,\n",
       " 'theta': -6.974440899635775e-05,\n",
       " 'rho': 0.028703161229557003,\n",
       " 'vega': 1.1549371178419823}"
      ]
     },
     "execution_count": 4,
     "metadata": {},
     "output_type": "execute_result"
    }
   ],
   "source": [
    "\n",
    "post(\n",
    "   f\"{URL}/api/v1/price/option/binary\",\n",
    "    data=json.dumps(\n",
    "        {\n",
    "            \"spot_price\": 100,\n",
    "            \"strike_price\": 100,\n",
    "            \"maturity\": 0.75,\n",
    "            \"dividend\":0.01,\n",
    "            \"rate_curve\": {\"0.5\":0.02,\"1\":0.06},\n",
    "            \"volatility\": 0.10,\n",
    "            \"option_type\": \"call\",\n",
    "        }\n",
    "    ),\n",
    ").json()"
   ]
  },
  {
   "cell_type": "markdown",
   "metadata": {},
   "source": [
    "Straddle"
   ]
  },
  {
   "cell_type": "code",
   "execution_count": 8,
   "metadata": {},
   "outputs": [
    {
     "data": {
      "text/plain": [
       "{'price': 7.059978881993203,\n",
       " 'delta': 0.0,\n",
       " 'gamma': 0.0,\n",
       " 'theta': 0.0,\n",
       " 'rho': 0.0,\n",
       " 'vega': 0.0}"
      ]
     },
     "execution_count": 8,
     "metadata": {},
     "output_type": "execute_result"
    }
   ],
   "source": [
    "\n",
    "post(\n",
    "   f\"{URL}/api/v1/price/option-strategy/straddle\",\n",
    "    data=json.dumps(\n",
    "        {\n",
    "            \"spot_price\": 100,\n",
    "            \"strike_price\": 100,\n",
    "            \"maturity\": 0.75,\n",
    "            \"dividend\":0.01,\n",
    "            \"rate_curve\": {\"0.5\":0.02,\"1\":0.06},\n",
    "            \"volatility\": 0.10,\n",
    "            \"option_type\": \"call\",\n",
    "        }\n",
    "    ),\n",
    ").json()"
   ]
  },
  {
   "cell_type": "markdown",
   "metadata": {},
   "source": [
    "strangle"
   ]
  },
  {
   "cell_type": "code",
   "execution_count": 5,
   "metadata": {},
   "outputs": [
    {
     "data": {
      "text/plain": [
       "{'price': 22.091827291391922,\n",
       " 'delta': 0.0,\n",
       " 'gamma': 0.0,\n",
       " 'theta': 0.0,\n",
       " 'rho': 0.0,\n",
       " 'vega': 0.0}"
      ]
     },
     "execution_count": 5,
     "metadata": {},
     "output_type": "execute_result"
    }
   ],
   "source": [
    "\n",
    "post(\n",
    "   f\"{URL}/api/v1/price/option-strategy/strangle\",\n",
    "    data=json.dumps(\n",
    "        {\n",
    "            \"spot_price\": 100,\n",
    "            \"strike_price1\": 100,\n",
    "            \"strike_price2\": 120,\n",
    "            \"maturity\": 0.75,\n",
    "            \"dividend\":0.01,\n",
    "            \"rate_curve\": {\"0.5\":0.02,\"1\":0.06},\n",
    "            \"volatility\": 0.10,\n",
    "            \"option_type\": \"call\",\n",
    "        }\n",
    "    ),\n",
    ").json()"
   ]
  },
  {
   "cell_type": "code",
   "execution_count": null,
   "metadata": {},
   "outputs": [],
   "source": []
  }
 ],
 "metadata": {
  "kernelspec": {
   "display_name": ".venv",
   "language": "python",
   "name": "python3"
  },
  "language_info": {
   "codemirror_mode": {
    "name": "ipython",
    "version": 3
   },
   "file_extension": ".py",
   "mimetype": "text/x-python",
   "name": "python",
   "nbconvert_exporter": "python",
   "pygments_lexer": "ipython3",
   "version": "3.11.6"
  }
 },
 "nbformat": 4,
 "nbformat_minor": 2
}
