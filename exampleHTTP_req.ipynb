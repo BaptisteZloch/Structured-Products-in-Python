{
 "cells": [
  {
   "cell_type": "code",
   "execution_count": null,
   "metadata": {},
   "outputs": [],
   "source": [
    "%pip install -U requests"
   ]
  },
  {
   "cell_type": "code",
   "execution_count": 1,
   "metadata": {},
   "outputs": [
    {
     "data": {
      "text/plain": [
       "'\\n    <!DOCTYPE html>\\n    <html>\\n    <head>\\n    <link type=\"text/css\" rel=\"stylesheet\" href=\"https://cdn.jsdelivr.net/npm/swagger-ui-dist@5.9.0/swagger-ui.css\">\\n    <link rel=\"shortcut icon\" href=\"https://fastapi.tiangolo.com/img/favicon.png\">\\n    <title>FastAPI - Swagger UI</title>\\n    </head>\\n    <body>\\n    <div id=\"swagger-ui\">\\n    </div>\\n    <script src=\"https://cdn.jsdelivr.net/npm/swagger-ui-dist@5.9.0/swagger-ui-bundle.js\"></script>\\n    <!-- `SwaggerUIBundle` is now available on the page -->\\n    <script>\\n    const ui = SwaggerUIBundle({\\n        url: \\'/openapi.json\\',\\n    \"dom_id\": \"#swagger-ui\",\\n\"layout\": \"BaseLayout\",\\n\"deepLinking\": true,\\n\"showExtensions\": true,\\n\"showCommonExtensions\": true,\\noauth2RedirectUrl: window.location.origin + \\'/docs/oauth2-redirect\\',\\n    presets: [\\n        SwaggerUIBundle.presets.apis,\\n        SwaggerUIBundle.SwaggerUIStandalonePreset\\n        ],\\n    })\\n    </script>\\n    </body>\\n    </html>\\n    '"
      ]
     },
     "execution_count": 1,
     "metadata": {},
     "output_type": "execute_result"
    }
   ],
   "source": [
    "from requests import post, get\n",
    "import json\n",
    "\n",
    "\n",
    "\n",
    "# URL = \"https://structured-pricing-api-dauphine.koyeb.app\"\n",
    "URL = \"http://localhost:8000\"\n",
    "\n",
    "\n",
    "get(f\"{URL}\").text"
   ]
  },
  {
   "cell_type": "markdown",
   "metadata": {},
   "source": [
    "Vanilla option"
   ]
  },
  {
   "cell_type": "code",
   "execution_count": 2,
   "metadata": {},
   "outputs": [
    {
     "data": {
      "text/plain": [
       "{'price': 3.0697305092269715,\n",
       " 'delta': 0.5422350133116141,\n",
       " 'gamma': 0.05610249260837251,\n",
       " 'theta': -4.3397377550766585,\n",
       " 'rho': 0.2557688541096722,\n",
       " 'vega': 0.28051246304186256}"
      ]
     },
     "execution_count": 2,
     "metadata": {},
     "output_type": "execute_result"
    }
   ],
   "source": [
    "\n",
    "\n",
    "post(\n",
    "    f\"{URL}/api/v1/price/option/vanilla\",\n",
    "    data=json.dumps(\n",
    "        {\n",
    "            \"spot_price\": 100,\n",
    "            \"strike_price\": 100,\n",
    "            \"maturity\": 0.5,\n",
    "            \"dividend\":0.02,\n",
    "            \"rate\": 0.03,\n",
    "            \"volatility\": 0.10,\n",
    "            \"option_type\": \"call\",\n",
    "        }\n",
    "    ),\n",
    ").json()"
   ]
  },
  {
   "cell_type": "markdown",
   "metadata": {},
   "source": [
    "binary option"
   ]
  },
  {
   "cell_type": "code",
   "execution_count": 3,
   "metadata": {},
   "outputs": [
    {
     "data": {
      "text/plain": [
       "{'price': 0.5726722849809049,\n",
       " 'delta': 0.04399760448921839,\n",
       " 'gamma': -0.0015399161571226431,\n",
       " 'theta': -6.974440899635778e-05,\n",
       " 'rho': 0.028703161229557003,\n",
       " 'vega': 1.1549371178419827}"
      ]
     },
     "execution_count": 3,
     "metadata": {},
     "output_type": "execute_result"
    }
   ],
   "source": [
    "\n",
    "post(\n",
    "   f\"{URL}/api/v1/price/option/binary\",\n",
    "    data=json.dumps(\n",
    "        {\n",
    "            \"spot_price\": 100,\n",
    "            \"strike_price\": 100,\n",
    "            \"maturity\": 0.75,\n",
    "            'rate':0.04,\n",
    "            \"dividend\":0.01,\n",
    "            \"volatility\": 0.10,\n",
    "            \"option_type\": \"call\",\n",
    "        }\n",
    "    ),\n",
    ").json()"
   ]
  },
  {
   "cell_type": "markdown",
   "metadata": {},
   "source": [
    "using rate curve"
   ]
  },
  {
   "cell_type": "code",
   "execution_count": 4,
   "metadata": {},
   "outputs": [
    {
     "data": {
      "text/plain": [
       "{'price': 0.5726722849809049,\n",
       " 'delta': 0.04399760448921839,\n",
       " 'gamma': -0.0015399161571226427,\n",
       " 'theta': -6.974440899635775e-05,\n",
       " 'rho': 0.028703161229557003,\n",
       " 'vega': 1.1549371178419823}"
      ]
     },
     "execution_count": 4,
     "metadata": {},
     "output_type": "execute_result"
    }
   ],
   "source": [
    "\n",
    "post(\n",
    "   f\"{URL}/api/v1/price/option/binary\",\n",
    "    data=json.dumps(\n",
    "        {\n",
    "            \"spot_price\": 100,\n",
    "            \"strike_price\": 100,\n",
    "            \"maturity\": 0.75,\n",
    "            \"dividend\":0.01,\n",
    "            \"rate_curve\": {\"0.5\":0.02,\"1\":0.06},\n",
    "            \"volatility\": 0.10,\n",
    "            \"option_type\": \"call\",\n",
    "        }\n",
    "    ),\n",
    ").json()"
   ]
  },
  {
   "cell_type": "markdown",
   "metadata": {},
   "source": [
    "Straddle"
   ]
  },
  {
   "cell_type": "code",
   "execution_count": 8,
   "metadata": {},
   "outputs": [
    {
     "data": {
      "text/plain": [
       "{'price': 7.059978881993203,\n",
       " 'delta': 0.0,\n",
       " 'gamma': 0.0,\n",
       " 'theta': 0.0,\n",
       " 'rho': 0.0,\n",
       " 'vega': 0.0}"
      ]
     },
     "execution_count": 8,
     "metadata": {},
     "output_type": "execute_result"
    }
   ],
   "source": [
    "\n",
    "post(\n",
    "   f\"{URL}/api/v1/price/option-strategy/straddle\",\n",
    "    data=json.dumps(\n",
    "        {\n",
    "            \"spot_price\": 100,\n",
    "            \"strike_price\": 100,\n",
    "            \"maturity\": 0.75,\n",
    "            \"dividend\":0.01,\n",
    "            \"rate_curve\": {\"0.5\":0.02,\"1\":0.06},\n",
    "            \"volatility\": 0.10,\n",
    "            \"option_type\": \"call\",\n",
    "        }\n",
    "    ),\n",
    ").json()"
   ]
  },
  {
   "cell_type": "markdown",
   "metadata": {},
   "source": [
    "strangle"
   ]
  },
  {
   "cell_type": "code",
   "execution_count": 5,
   "metadata": {},
   "outputs": [
    {
     "data": {
      "text/plain": [
       "{'price': 22.091827291391922,\n",
       " 'delta': 0.0,\n",
       " 'gamma': 0.0,\n",
       " 'theta': 0.0,\n",
       " 'rho': 0.0,\n",
       " 'vega': 0.0}"
      ]
     },
     "execution_count": 5,
     "metadata": {},
     "output_type": "execute_result"
    }
   ],
   "source": [
    "\n",
    "post(\n",
    "   f\"{URL}/api/v1/price/option-strategy/strangle\",\n",
    "    data=json.dumps(\n",
    "        {\n",
    "            \"spot_price\": 100,\n",
    "            \"strike_price1\": 100,\n",
    "            \"strike_price2\": 120,\n",
    "            \"maturity\": 0.75,\n",
    "            \"dividend\":0.01,\n",
    "            \"rate_curve\": {\"0.5\":0.02,\"1\":0.06},\n",
    "            \"volatility\": 0.10,\n",
    "            \"option_type\": \"call\",\n",
    "        }\n",
    "    ),\n",
    ").json()"
   ]
  },
  {
   "cell_type": "code",
   "execution_count": null,
   "metadata": {},
   "outputs": [],
   "source": []
  }
 ],
 "metadata": {
  "kernelspec": {
   "display_name": ".venv",
   "language": "python",
   "name": "python3"
  },
  "language_info": {
   "codemirror_mode": {
    "name": "ipython",
    "version": 3
   },
   "file_extension": ".py",
   "mimetype": "text/x-python",
   "name": "python",
   "nbconvert_exporter": "python",
   "pygments_lexer": "ipython3",
   "version": "3.11.6"
  }
 },
 "nbformat": 4,
 "nbformat_minor": 2
}
