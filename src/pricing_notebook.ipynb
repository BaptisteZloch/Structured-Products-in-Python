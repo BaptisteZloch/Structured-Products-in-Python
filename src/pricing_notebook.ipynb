{
 "cells": [
  {
   "cell_type": "code",
   "execution_count": 6,
   "metadata": {},
   "outputs": [
    {
     "data": {
      "text/plain": [
       "5.733960540842027"
      ]
     },
     "execution_count": 6,
     "metadata": {},
     "output_type": "execute_result"
    }
   ],
   "source": [
    "from pricing.base.rate import Rate\n",
    "from pricing.base.volatility import Volatility\n",
    "from pricing.vanilla_options import VanillaOption\n",
    "from utility.types import Maturity\n",
    "\n",
    "\n",
    "opt = VanillaOption(\n",
    "    100,\n",
    "    110,\n",
    "    Maturity(maturity_in_days=365),\n",
    "    Rate(rate=0.04),\n",
    "    Volatility(volatility=0.20),\n",
    "    option_type=\"call\",\n",
    ")\n",
    "\n",
    "opt.compute_option_price()"
   ]
  },
  {
   "cell_type": "code",
   "execution_count": null,
   "metadata": {},
   "outputs": [],
   "source": []
  }
 ],
 "metadata": {
  "kernelspec": {
   "display_name": ".venv",
   "language": "python",
   "name": "python3"
  },
  "language_info": {
   "codemirror_mode": {
    "name": "ipython",
    "version": 3
   },
   "file_extension": ".py",
   "mimetype": "text/x-python",
   "name": "python",
   "nbconvert_exporter": "python",
   "pygments_lexer": "ipython3",
   "version": "3.11.6"
  }
 },
 "nbformat": 4,
 "nbformat_minor": 2
}
