{
 "cells": [
  {
   "cell_type": "code",
   "execution_count": 1,
   "metadata": {},
   "outputs": [],
   "source": [
    "from pricing.base.rate import Rate\n",
    "from pricing.base.volatility import Volatility\n",
    "from utility.types import Maturity"
   ]
  },
  {
   "cell_type": "markdown",
   "metadata": {},
   "source": [
    "# Pricing Options\n",
    "\n",
    "## Vanilla Options\n"
   ]
  },
  {
   "cell_type": "code",
   "execution_count": 2,
   "metadata": {},
   "outputs": [
    {
     "data": {
      "text/plain": [
       "5.733960540842027"
      ]
     },
     "execution_count": 2,
     "metadata": {},
     "output_type": "execute_result"
    }
   ],
   "source": [
    "from pricing.vanilla_options import VanillaOption\n",
    "\n",
    "\n",
    "opt = VanillaOption(\n",
    "    100,\n",
    "    110,\n",
    "    Maturity(maturity_in_days=365),\n",
    "    Rate(rate=0.04),\n",
    "    Volatility(volatility=0.20),\n",
    "    option_type=\"call\",\n",
    ")\n",
    "\n",
    "opt.compute_price()"
   ]
  },
  {
   "cell_type": "code",
   "execution_count": 3,
   "metadata": {},
   "outputs": [
    {
     "data": {
      "text/plain": [
       "11.36210024410454"
      ]
     },
     "execution_count": 3,
     "metadata": {},
     "output_type": "execute_result"
    }
   ],
   "source": [
    "opt2 = VanillaOption(\n",
    "    100,\n",
    "    110,\n",
    "    Maturity(maturity_in_days=365),\n",
    "    Rate(rate=0.04),\n",
    "    Volatility(volatility=0.20),\n",
    "    option_type=\"put\",\n",
    ")\n",
    "\n",
    "opt2.compute_price()"
   ]
  },
  {
   "cell_type": "markdown",
   "metadata": {},
   "source": [
    "## Option digit\n"
   ]
  },
  {
   "cell_type": "code",
   "execution_count": 4,
   "metadata": {},
   "outputs": [
    {
     "data": {
      "text/plain": [
       "0.3406307870551669"
      ]
     },
     "execution_count": 4,
     "metadata": {},
     "output_type": "execute_result"
    }
   ],
   "source": [
    "from pricing.binary_options import BinaryOption\n",
    "\n",
    "\n",
    "bin_opt = BinaryOption(\n",
    "    100,\n",
    "    110,\n",
    "    Maturity(maturity_in_days=365),\n",
    "    Rate(rate=0.04),\n",
    "    Volatility(volatility=0.20),\n",
    "    option_type=\"call\",\n",
    ")\n",
    "bin_opt.compute_price()"
   ]
  },
  {
   "cell_type": "code",
   "execution_count": 5,
   "metadata": {},
   "outputs": [
    {
     "data": {
      "text/plain": [
       "0.6196250284290377"
      ]
     },
     "execution_count": 5,
     "metadata": {},
     "output_type": "execute_result"
    }
   ],
   "source": [
    "bin_opt2 = BinaryOption(\n",
    "    100,\n",
    "    110,\n",
    "    Maturity(maturity_in_days=365),\n",
    "    Rate(rate=0.04),\n",
    "    Volatility(volatility=0.20),\n",
    "    option_type=\"put\",\n",
    ")\n",
    "bin_opt2.compute_price()"
   ]
  },
  {
   "cell_type": "markdown",
   "metadata": {},
   "source": [
    "# Option strategies\n",
    "\n",
    "## Straddle\n"
   ]
  },
  {
   "cell_type": "code",
   "execution_count": null,
   "metadata": {},
   "outputs": [],
   "source": [
    "#TODO: Frontend streamlit (Matthieu)\n",
    "#TODO: API (Baptiste)\n",
    "#TODO: Produit Structurés Outperformer/Reversible conversible\n",
    "#TODO: Strategies option (Matthieu)\n",
    "#TODO: Options barrières MC (Naim)\n",
    "#TODO: Surface vol class\n",
    "#TODO: Calculer les grecques\n"
   ]
  },
  {
   "cell_type": "code",
   "execution_count": 6,
   "metadata": {},
   "outputs": [
    {
     "data": {
      "text/plain": [
       "17.096060784946566"
      ]
     },
     "execution_count": 6,
     "metadata": {},
     "output_type": "execute_result"
    }
   ],
   "source": [
    "from pricing.option_strategies import StraddleStrategy\n",
    "\n",
    "\n",
    "straddle = StraddleStrategy(\n",
    "    100,\n",
    "    110,\n",
    "    Maturity(maturity_in_days=365),\n",
    "    Rate(rate=0.04),\n",
    "    Volatility(volatility=0.20),\n",
    ")\n",
    "straddle.compute_price()"
   ]
  },
  {
   "cell_type": "markdown",
   "metadata": {},
   "source": [
    "## Strangle strategy"
   ]
  },
  {
   "cell_type": "code",
   "execution_count": 7,
   "metadata": {},
   "outputs": [
    {
     "data": {
      "text/plain": [
       "27.49704205763158"
      ]
     },
     "execution_count": 7,
     "metadata": {},
     "output_type": "execute_result"
    }
   ],
   "source": [
    "\n",
    "from pricing.option_strategies import StrangleStrategy\n",
    "\n",
    "\n",
    "straddle = StrangleStrategy(\n",
    "    100,\n",
    "    90,\n",
    "    110,\n",
    "    Maturity(maturity_in_days=365),\n",
    "    Rate(rate=0.04),\n",
    "    Volatility(volatility=0.20),\n",
    ")\n",
    "straddle.compute_price()"
   ]
  },
  {
   "cell_type": "markdown",
   "metadata": {},
   "source": [
    "# Pricing Bonds\n",
    "\n",
    "## ZC\n"
   ]
  },
  {
   "cell_type": "code",
   "execution_count": 8,
   "metadata": {},
   "outputs": [
    {
     "data": {
      "text/plain": [
       "97.00412654712278"
      ]
     },
     "execution_count": 8,
     "metadata": {},
     "output_type": "execute_result"
    }
   ],
   "source": [
    "from pricing.fixed_income import ZeroCouponBond\n",
    "\n",
    "\n",
    "zc_bond = ZeroCouponBond(\n",
    "    Rate(rate=0.03, rate_type=\"continuous\"), Maturity(maturity_in_days=365), nominal=100\n",
    ")\n",
    "\n",
    "\n",
    "zc_bond.compute_price()"
   ]
  },
  {
   "cell_type": "markdown",
   "metadata": {},
   "source": [
    "## Vanilla Bond\n",
    "\n",
    "using a rate curve interpolation\n"
   ]
  },
  {
   "cell_type": "code",
   "execution_count": 9,
   "metadata": {},
   "outputs": [
    {
     "data": {
      "text/plain": [
       "75.11549887185251"
      ]
     },
     "execution_count": 9,
     "metadata": {},
     "output_type": "execute_result"
    }
   ],
   "source": [
    "from pricing.fixed_income import Bond\n",
    "\n",
    "\n",
    "rate_curve = {\n",
    "    Maturity(1 / 365): 0.02,\n",
    "    Maturity(1 / 12): 0.01,\n",
    "    Maturity(3 / 12): 0.02,\n",
    "    Maturity(6 / 12): 0.04,\n",
    "    Maturity(1): 0.06,\n",
    "    Maturity(3): 0.07,\n",
    "    Maturity(5): 0.08,\n",
    "    Maturity(10): 0.1,\n",
    "}\n",
    "bond = Bond(\n",
    "    Rate(\n",
    "        rate_curve=rate_curve,\n",
    "        rate_type=\"continuous\",\n",
    "    ),\n",
    "    Maturity(maturity_in_days=365 * 5),\n",
    "    nominal=100,\n",
    "    coupon_rate=0.02,\n",
    "    nb_coupon=10,\n",
    ")\n",
    "\n",
    "bond.compute_price()"
   ]
  },
  {
   "cell_type": "code",
   "execution_count": 10,
   "metadata": {},
   "outputs": [
    {
     "data": {
      "text/plain": [
       "Text(0.5, 1.0, 'Rate curve')"
      ]
     },
     "execution_count": 10,
     "metadata": {},
     "output_type": "execute_result"
    },
    {
     "data": {
      "image/png": "[encoded data removed]",
      "text/plain": [
       "<Figure size 640x480 with 1 Axes>"
      ]
     },
     "metadata": {},
     "output_type": "display_data"
    }
   ],
   "source": [
    "from matplotlib import pyplot as plt\n",
    "\n",
    "\n",
    "plt.plot(\n",
    "    [mat.maturity_in_years for mat in rate_curve.keys()],\n",
    "    [r for r in rate_curve.values()],\n",
    "    label=\"Rate curve\",\n",
    ")\n",
    "plt.xlabel(\"Tenors (Y)\")\n",
    "# plt.xscale('log')\n",
    "plt.ylabel(\"Rate (%)\")\n",
    "plt.grid()\n",
    "plt.legend()\n",
    "plt.title(\"Rate curve\")"
   ]
  },
  {
   "cell_type": "code",
   "execution_count": null,
   "metadata": {},
   "outputs": [],
   "source": []
  }
 ],
 "metadata": {
  "kernelspec": {
   "display_name": ".venv",
   "language": "python",
   "name": "python3"
  },
  "language_info": {
   "codemirror_mode": {
    "name": "ipython",
    "version": 3
   },
   "file_extension": ".py",
   "mimetype": "text/x-python",
   "name": "python",
   "nbconvert_exporter": "python",
   "pygments_lexer": "ipython3",
   "version": "3.11.6"
  }
 },
 "nbformat": 4,
 "nbformat_minor": 2
}
